{
 "cells": [
  {
   "cell_type": "code",
   "execution_count": 2,
   "metadata": {
    "collapsed": true
   },
   "outputs": [],
   "source": [
    "import numpy as np"
   ]
  },
  {
   "cell_type": "code",
   "execution_count": 9,
   "metadata": {},
   "outputs": [
    {
     "name": "stdout",
     "output_type": "stream",
     "text": [
      "k-Werte\n",
      "[ 1.32  1.24  1.32  1.33  1.31]\n",
      "Fehler k-Werte\n",
      "[ 0.02  0.02  0.05  0.05  0.08]\n",
      "Standartabweichung\n",
      "[ 3.4  7.9  1.5  1.5  1. ]\n"
     ]
    }
   ],
   "source": [
    "##Messung nach Clement und Desormes\n",
    "#Bestimmung k-Werte\n",
    "h1=np.array([3.9,3.87,1.65,2,1.05])\n",
    "h3=np.array([0.95,0.75,0.4,0.5,0.25])\n",
    "k=h1/(h1-h3)\n",
    "print('k-Werte')\n",
    "print(k.round(2))\n",
    "err_k=0.05*((h3/(h1-h3)**2)**2+(h1/(h1-h3)**2)**2)**(1/2)\n",
    "print('Fehler k-Werte')\n",
    "print(err_k.round(2))\n",
    "std=(1.4-k)/err_k\n",
    "print('Standartabweichung')\n",
    "print(std.round(1))"
   ]
  },
  {
   "cell_type": "code",
   "execution_count": 10,
   "metadata": {},
   "outputs": [
    {
     "name": "stdout",
     "output_type": "stream",
     "text": [
      "Mittelwert von k=1.306+-0.051\n",
      "Abweichung vom Literaturwert = 1.8\n"
     ]
    }
   ],
   "source": [
    "#Bestimmung des Mittelwertes\n",
    "kk=np.sum(k)/5\n",
    "err_kk=(np.sum(err_k**2)/5)**(1/2)\n",
    "print('Mittelwert von k={}+-{}'.format(round(kk,3),round(err_kk,3)))\n",
    "std2=(1.4-kk)/err_kk\n",
    "print('Abweichung vom Literaturwert = {}'.format(std2.round(1)))"
   ]
  },
  {
   "cell_type": "code",
   "execution_count": 24,
   "metadata": {},
   "outputs": [
    {
     "name": "stdout",
     "output_type": "stream",
     "text": [
      "Periodendauer Luft = (0.9908+-0.0036)s\n",
      "Periodendauer Argon = (0.9293+-0.0009)s\n"
     ]
    }
   ],
   "source": [
    "##Messung nach Ruechardt\n",
    "#Bestimmung der Periodendauer\n",
    "L=np.array([49.84,49.84,49.32,49.15])/50\n",
    "A=np.array([46.54,46.42,46.54,46.36])/50\n",
    "LL=np.sum(L)/4\n",
    "std_LL=np.std(L,ddof=1)/np.sqrt(len(L))\n",
    "AA=np.sum(A)/4\n",
    "std_AA=np.std(A,ddof=1)/np.sqrt(len(A))\n",
    "print('Periodendauer Luft = ({}+-{})s'.format(round(LL,4),round(std_LL,4)))\n",
    "print('Periodendauer Argon = ({}+-{})s'.format(round(AA,4),round(std_AA,4)))"
   ]
  },
  {
   "cell_type": "code",
   "execution_count": 25,
   "metadata": {},
   "outputs": [
    {
     "name": "stdout",
     "output_type": "stream",
     "text": [
      "Adiabatenkoeffizient von Luft = 1.41+-0.01\n",
      "Adiabatenkoeffizient von Argon = 1.618+-0.021\n",
      "Abweichung vom Literaturwert von Luft = 1.0\n",
      "Abweichung vom Literaturwert von Argon = 1.5\n",
      "Abweichung vom k-Wert von Luft aus 1 = 2.0\n",
      "Abweichung vom Theoretischen k-Wert von Argon = 2.4\n"
     ]
    }
   ],
   "source": [
    "#Berechnung von k\n",
    "k=lambda m,V,r,T,p:4*m*V/(r**4*T**2*p)\n",
    "p=lambda p0,m,g,r:p0+m*g/(np.pi*r**2)*10**(-6) #10^-6 Umrechnungsfaktor\n",
    "ml=26.116/1000 #in kg\n",
    "e_ml=0.002/1000\n",
    "Vl=5370 #in cm^3\n",
    "e_Vl=5\n",
    "rl=15.95/2/10 #in cm\n",
    "e_rl=0.01/10\n",
    "p0=999.9 #in hPa\n",
    "e_p0=0.2\n",
    "g=9.81 #in m/s^2\n",
    "e_p=lambda e_p0,m,e_m,g,e_r,r:np.sqrt(e_p0**2+(m*g/np.pi/r**2*10**(-6))**2*(((e_m/m)**2)+(2*e_r/r)**2))\n",
    "e_k=lambda m,e_m,V,e_V,r,e_r,T,e_T,p,e_p:np.sqrt((e_m/m)**2+(e_V/V)**2+(4*e_r/r)**2+(2*e_T/T)**2+(e_p/p)**2)\n",
    "pl=p(p0,ml,g,rl)\n",
    "kl=k(ml,Vl,rl,LL,pl)\n",
    "e_pl=e_p(e_p0,ml,e_ml,g,e_rl,rl)\n",
    "e_kl=e_k(ml,e_ml,Vl,e_Vl,rl,e_rl,LL,std_LL,pl,e_pl)*kl\n",
    "print('Adiabatenkoeffizient von Luft = {}+-{}'.format(round(kl,2),round(e_kl,2)))\n",
    "Va=5460 #in cm^3\n",
    "e_Va=5\n",
    "ma=26.006/1000 #in kg\n",
    "e_ma=0.002/1000 #in kg\n",
    "ra=15.97/2/10 #in cmv\n",
    "e_ra=0.05/2/10 #in cm\n",
    "pa=p(p0,ma,g,ra)\n",
    "ka=k(ma,Va,ra,AA,pa)\n",
    "e_pa=e_p(e_p0,ma,e_ma,g,e_ra,ra)\n",
    "e_ka=e_k(ma,e_ma,Va,e_Va,ra,e_ra,AA,std_AA,pa,e_pa)*ka\n",
    "print('Adiabatenkoeffizient von Argon = {}+-{}'.format(round(ka,3),round(e_ka,3)))\n",
    "stdl=(1.4-kl)/e_kl\n",
    "print('Abweichung vom Literaturwert von Luft = {}'.format(abs(stdl.round(1))))\n",
    "stda=(1.648-ka)/e_ka\n",
    "print('Abweichung vom Literaturwert von Argon = {}'.format(abs(stda.round(1))))\n",
    "stdll=(kk-kl)/np.sqrt(e_kl**2+err_kk**2)\n",
    "print('Abweichung vom k-Wert von Luft aus 1 = {}'.format(abs(stdll.round(1))))\n",
    "stdaa=(1.66666667-ka)/e_ka\n",
    "print('Abweichung vom Theoretischen k-Wert von Argon = {}'.format(abs(stdaa.round(1))))"
   ]
  },
  {
   "cell_type": "code",
   "execution_count": null,
   "metadata": {
    "collapsed": true
   },
   "outputs": [],
   "source": []
  },
  {
   "cell_type": "code",
   "execution_count": null,
   "metadata": {
    "collapsed": true
   },
   "outputs": [],
   "source": []
  },
  {
   "cell_type": "code",
   "execution_count": null,
   "metadata": {
    "collapsed": true
   },
   "outputs": [],
   "source": []
  }
 ],
 "metadata": {
  "kernelspec": {
   "display_name": "Python 3",
   "language": "python",
   "name": "python3"
  },
  "language_info": {
   "codemirror_mode": {
    "name": "ipython",
    "version": 3
   },
   "file_extension": ".py",
   "mimetype": "text/x-python",
   "name": "python",
   "nbconvert_exporter": "python",
   "pygments_lexer": "ipython3",
   "version": "3.6.3"
  }
 },
 "nbformat": 4,
 "nbformat_minor": 2
}
